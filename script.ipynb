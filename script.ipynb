{
 "cells": [
  {
   "cell_type": "code",
   "execution_count": null,
   "metadata": {},
   "outputs": [],
   "source": [
    "# Importing the required libraries\n",
    "import ee\n",
    "import geopandas as gpd\n",
    "import pandas as pd\n",
    "import matplotlib.pyplot as plt"
   ]
  },
  {
   "cell_type": "markdown",
   "metadata": {},
   "source": [
    "## Authenticate and Initialize Earth Engine\n",
    "\n",
    "To access and use the Google Earth Engine (GEE) API, we need to authenticate and initialize it. The authentication process will prompt you to log in to your Google account and grant the necessary permissions for Earth Engine. Once authenticated, we initialize the Earth Engine with a specific project name.\n",
    "\n",
    "The following code performs these steps:"
   ]
  },
  {
   "cell_type": "code",
   "execution_count": null,
   "metadata": {},
   "outputs": [],
   "source": [
    "# Authenticate and initialize the Earth Engine API\n",
    "ee.Authenticate()\n",
    "ee.Initialize(project='ee-dharanideivasihamani')"
   ]
  },
  {
   "cell_type": "markdown",
   "metadata": {},
   "source": [
    "## Function: Compute Water Extent Time Series\n",
    "\n",
    "The `compute_water_extent_time_series` function is designed to analyze the changes in water extent over a specified period using the JRC Global Surface Water dataset. This function reads a GeoJSON file to define the geometry of a water body and calculates the surface water area for each month within the specified date range. The results are returned as a time series DataFrame.\n",
    "\n",
    "### Parameters\n",
    "- `geojson_path` (str): The file path to the GeoJSON file containing the geometry of the water body.\n",
    "- `start_date` (str): The start date for the analysis period in the format 'YYYY-MM-DD'.\n",
    "- `end_date` (str): The end date for the analysis period in the format 'YYYY-MM-DD'.\n",
    "\n",
    "### Returns\n",
    "- `df` (pandas.DataFrame): A DataFrame containing the date and the corresponding surface water area in square meters.\n",
    "\n",
    "### Function Steps\n",
    "1. **Read GeoJSON File**: The function reads the GeoJSON file to extract the geometry of the water body.\n",
    "2. **Convert to Earth Engine Geometry**: The extracted geometry is converted into an Earth Engine polygon.\n",
    "3. **Define Time Range**: The start and end dates are converted into Earth Engine date objects.\n",
    "4. **Load Dataset**: The JRC Global Surface Water dataset is loaded and filtered based on the date range and the water body geometry.\n",
    "5. **Compute Water Area**: For each image in the filtered dataset, the surface water area is computed by masking non-water pixels and summing the area of water pixels.\n",
    "6. **Create Time Series DataFrame**: The dates and corresponding water areas are collected into a DataFrame, which is then sorted by date and returned.\n"
   ]
  },
  {
   "cell_type": "code",
   "execution_count": null,
   "metadata": {},
   "outputs": [],
   "source": [
    "# Function to compute water extent time series\n",
    "def compute_water_extent_time_series(geojson_path, start_date, end_date):\n",
    "    # Read GeoJSON file\n",
    "    gdf = gpd.read_file(geojson_path)\n",
    "    # The column no 3 refers to 4th lake. Please change the no between 0 and 3 for choosing a different lake.\n",
    "    water_body_geom = gdf.geometry.iloc[3] \n",
    "    water_body_ee = ee.Geometry.Polygon(list(water_body_geom.exterior.coords))\n",
    "\n",
    "    # Define time range\n",
    "    start_date = ee.Date(start_date)\n",
    "    end_date = ee.Date(end_date)\n",
    "\n",
    "    # Load JRC Global Surface Water dataset\n",
    "    dataset = ee.ImageCollection('JRC/GSW1_2/MonthlyHistory') \\\n",
    "                .filterDate(start_date, end_date) \\\n",
    "                .filterBounds(water_body_ee)\n",
    "\n",
    "    # Function to compute water area\n",
    "    def compute_water_area(image):\n",
    "        water = image.select('water').gt(0).selfMask()\n",
    "        water_area = water.multiply(ee.Image.pixelArea()).reduceRegion(\n",
    "            reducer=ee.Reducer.sum(),\n",
    "            geometry=water_body_ee,\n",
    "            scale=10,\n",
    "            maxPixels=1e9\n",
    "        ).get('water')\n",
    "        return water_area\n",
    "\n",
    "    # Compute water area for each image in the dataset\n",
    "    dates = []\n",
    "    areas = []\n",
    "    for image in dataset.toList(dataset.size()).getInfo():\n",
    "        date = image['properties']['system:time_start']\n",
    "        date = pd.to_datetime(date, unit='ms').strftime('%Y-%m-%d')\n",
    "        water_image = ee.Image(image['id'])\n",
    "        area = compute_water_area(water_image).getInfo()\n",
    "        dates.append(date)\n",
    "        areas.append(area if area is not None else 0)\n",
    "\n",
    "    # Create time series DataFrame\n",
    "    df = pd.DataFrame({'date': pd.to_datetime(dates), 'area_sqm': areas})\n",
    "    df = df.sort_values(by='date')\n",
    "\n",
    "    return df"
   ]
  },
  {
   "cell_type": "code",
   "execution_count": null,
   "metadata": {},
   "outputs": [],
   "source": [
    "# Specify GeoJSON file path, time range, and output image path\n",
    "geojson_path = 'D:\\\\NatureDots\\\\data\\\\ne_10m_lakes_historic.geojson' # Local file path, please change accordingly\n",
    "start_date = '2016-01-01'\n",
    "end_date = '2023-01-01'"
   ]
  },
  {
   "cell_type": "code",
   "execution_count": null,
   "metadata": {},
   "outputs": [],
   "source": [
    "# Compute water extent time series\n",
    "df = compute_water_extent_time_series(geojson_path, start_date, end_date)"
   ]
  },
  {
   "cell_type": "markdown",
   "metadata": {},
   "source": [
    "## Plot Time Series\n",
    "\n",
    "The following code snippet is used to visualize the changes in surface water extent over time by plotting the time series data contained in the DataFrame generated by the `compute_water_extent_time_series` function. The plot displays the surface water area in square meters against the corresponding dates. "
   ]
  },
  {
   "cell_type": "code",
   "execution_count": null,
   "metadata": {},
   "outputs": [],
   "source": [
    "# Plot time series\n",
    "plt.figure(figsize=(10, 6))\n",
    "plt.plot(df['date'], df['area_sqm'], marker='o')\n",
    "plt.xlabel('Date')\n",
    "plt.ylabel('Surface Water Area (sqm)')\n",
    "plt.title('Surface Water Extent Over Time')\n",
    "plt.grid(True)\n",
    "plt.savefig('surface_water_extent_time_series_10m_lake_3.png')\n",
    "plt.show()"
   ]
  }
 ],
 "metadata": {
  "interpreter": {
   "hash": "45f02cd103867fd0a5dea73f8fb4ff15d1d3ecaec213f25c597773bb36fd76d3"
  },
  "kernelspec": {
   "display_name": "Python 3.7.6 64-bit",
   "name": "python3"
  },
  "language_info": {
   "codemirror_mode": {
    "name": "ipython",
    "version": 3
   },
   "file_extension": ".py",
   "mimetype": "text/x-python",
   "name": "python",
   "nbconvert_exporter": "python",
   "pygments_lexer": "ipython3",
   "version": "3.7.6"
  },
  "orig_nbformat": 4
 },
 "nbformat": 4,
 "nbformat_minor": 2
}
